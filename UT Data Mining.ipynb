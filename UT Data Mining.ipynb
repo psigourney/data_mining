{
 "cells": [
  {
   "cell_type": "code",
   "execution_count": 2,
   "metadata": {},
   "outputs": [
    {
     "data": {
      "text/plain": [
       "<Figure size 640x480 with 1 Axes>"
      ]
     },
     "metadata": {},
     "output_type": "display_data"
    }
   ],
   "source": [
    "import numpy as np\n",
    "import matplotlib.pyplot as plt\n",
    "\n",
    "#1a)\n",
    "sampleSetA = np.random.normal(-10,5,1000)\n",
    "sampleSetB = np.random.normal(10,5,1000)\n",
    "sumSet =  sampleSetA + sampleSetB\n",
    "plt.hist(sumSet, 40)\n",
    "plt.axis([-30, 30, 0, 75])\n",
    "plt.xlabel('Values')\n",
    "plt.ylabel('Count')\n",
    "plt.show()\n",
    "\n",
    "#I observe a roughly normal distribution of values."
   ]
  },
  {
   "cell_type": "code",
   "execution_count": 3,
   "metadata": {},
   "outputs": [
    {
     "name": "stdout",
     "output_type": "stream",
     "text": [
      "Mean: 0.27848759241401777\n",
      "Variance: 51.70783615539922\n"
     ]
    }
   ],
   "source": [
    "#1b)\n",
    "mean = 0\n",
    "for value in sumSet:\n",
    "    mean += value\n",
    "mean = mean / len(sumSet)\n",
    "    \n",
    "variance = 0    \n",
    "for value in sumSet:\n",
    "    variance += (value - mean)**2\n",
    "variance = variance / (len(sumSet)-1)    \n",
    "    \n",
    "print(\"Mean: {}\".format(mean))\n",
    "print(\"Variance: {}\".format(variance))"
   ]
  },
  {
   "cell_type": "code",
   "execution_count": 4,
   "metadata": {},
   "outputs": [
    {
     "data": {
      "image/png": "[encoded data removed]",
      "text/plain": [
       "<Figure size 432x288 with 1 Axes>"
      ]
     },
     "metadata": {
      "needs_background": "light"
     },
     "output_type": "display_data"
    }
   ],
   "source": [
    "#2) Take mean of 1000 Bernoulli values (T/F), plot histogram.\n",
    "# Num of successes for each test = np.random.binomial(# of coin flips, probability, # of tests)\n",
    "n = 250\n",
    "BernieSet = np.random.binomial(n, .5, 1000)\n",
    "plt.hist(BernieSet/n, 20)\n",
    "plt.xlabel('Values')\n",
    "plt.ylabel('Count')\n",
    "plt.show()\n"
   ]
  },
  {
   "cell_type": "code",
   "execution_count": 5,
   "metadata": {},
   "outputs": [
    {
     "name": "stdout",
     "output_type": "stream",
     "text": [
      "Mean: 0.04713126004859239\n",
      "Variance: 25.398665475521973\n"
     ]
    }
   ],
   "source": [
    "#3\n",
    "set25k = np.random.normal(0,5,25000)\n",
    "mean = 0\n",
    "for value in set25k:\n",
    "    mean += value\n",
    "mean = mean / len(set25k)\n",
    "\n",
    "variance = 0\n",
    "for value in set25k:\n",
    "    variance += (value - mean)**2\n",
    "variance = variance / (len(set25k)-1)\n",
    "\n",
    "print(\"Mean: {}\".format(mean))\n",
    "print(\"Variance: {}\".format(variance))"
   ]
  },
  {
   "cell_type": "code",
   "execution_count": 28,
   "metadata": {},
   "outputs": [
    {
     "name": "stdout",
     "output_type": "stream",
     "text": [
      "Mean:  [-4.919669882861366, 4.97994486082559]\n",
      "My Covariance Matrix:\n",
      "[[19.99366023  0.94301984]\n",
      " [ 0.94301984 30.01688559]]\n",
      "Correct Covariance Matrix:\n",
      "[[19.99366023  0.94301984]\n",
      " [ 0.94301984 30.01688559]]\n"
     ]
    }
   ],
   "source": [
    "#4\n",
    "mean = [-5, 5]\n",
    "covariance = [[20, .8], [.8, 30]]\n",
    "matrix = np.random.multivariate_normal(mean, covariance, 10000)\n",
    "sum1, sum2 = 0, 0\n",
    "for ele in matrix:\n",
    "    sum1 += ele[0]\n",
    "    sum2 += ele[1]\n",
    "xmean = sum1 / len(matrix)\n",
    "ymean = sum2 / len(matrix)\n",
    "mean = [xmean, ymean]\n",
    "print(\"Mean: \", mean)\n",
    "\n",
    "matrixT = matrix.T\n",
    "\n",
    "# https://docs.scipy.org/doc/numpy-1.15.1/reference/generated/numpy.random.multivariate_normal.html\n",
    "# https://datascienceplus.com/understanding-the-covariance-matrix/\n",
    "def covariance(x,y):\n",
    "    tot_sum, x_mean, y_mean  = 0, 0, 0\n",
    "    for val in x:\n",
    "        x_mean += val\n",
    "    x_mean = x_mean / len(x)\n",
    "    \n",
    "    for val in y:\n",
    "        y_mean += val\n",
    "    y_mean = y_mean / len(y)\n",
    "    \n",
    "    for i in range(0,len(x)):\n",
    "        tot_sum += ((x[i] - x_mean)*(y[i] - y_mean))\n",
    "        covariance = tot_sum / (len(x)-1)\n",
    "    return covariance\n",
    "\n",
    "cov_mtx_array = np.array([[covariance(matrixT[0], matrixT[0]),covariance(matrixT[0], matrixT[1])], \\\n",
    "                          [covariance(matrixT[1], matrixT[0]), covariance(matrixT[1], matrixT[1])]])\n",
    "print(\"My Covariance Matrix:\")\n",
    "print(cov_mtx_array)\n",
    "\n",
    "print(\"Correct Covariance Matrix:\")\n",
    "print(np.cov(matrix.T))\n",
    "      "
   ]
  },
  {
   "cell_type": "code",
   "execution_count": null,
   "metadata": {},
   "outputs": [],
   "source": []
  }
 ],
 "metadata": {
  "kernelspec": {
   "display_name": "Python 3",
   "language": "python",
   "name": "python3"
  },
  "language_info": {
   "codemirror_mode": {
    "name": "ipython",
    "version": 3
   },
   "file_extension": ".py",
   "mimetype": "text/x-python",
   "name": "python",
   "nbconvert_exporter": "python",
   "pygments_lexer": "ipython3",
   "version": "3.7.1"
  }
 },
 "nbformat": 4,
 "nbformat_minor": 2
}
