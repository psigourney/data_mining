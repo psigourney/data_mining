{
 "cells": [
  {
   "cell_type": "code",
   "execution_count": 2,
   "metadata": {},
   "outputs": [
    {
     "data": {
      "image/png": "[encoded data removed]",
      "text/plain": [
       "<Figure size 432x288 with 1 Axes>"
      ]
     },
     "metadata": {
      "needs_background": "light"
     },
     "output_type": "display_data"
    }
   ],
   "source": [
    "import numpy as np\n",
    "import matplotlib.pyplot as plt\n",
    "\n",
    "#1a)\n",
    "sampleSetA = np.random.normal(-10,5,1000)\n",
    "sampleSetB = np.random.normal(10,5,1000)\n",
    "sumSet =  sampleSetA + sampleSetB\n",
    "plt.hist(sumSet, 40)\n",
    "plt.axis([-30, 30, 0, 75])\n",
    "plt.xlabel('Values')\n",
    "plt.ylabel('Count')\n",
    "plt.show()\n",
    "\n",
    "#I observe a roughly normal distribution of values."
   ]
  },
  {
   "cell_type": "code",
   "execution_count": 3,
   "metadata": {},
   "outputs": [
    {
     "name": "stdout",
     "output_type": "stream",
     "text": [
      "Mean: 0.4969638508202252\n",
      "Variance: 50.20352754115298\n"
     ]
    }
   ],
   "source": [
    "#1b)\n",
    "mean = 0\n",
    "for value in sumSet:\n",
    "    mean += value\n",
    "mean = mean / len(sumSet)\n",
    "    \n",
    "variance = 0    \n",
    "for value in sumSet:\n",
    "    variance += (value - mean)**2\n",
    "variance = variance / (len(sumSet)-1)    \n",
    "    \n",
    "print(\"Mean: {}\".format(mean))\n",
    "print(\"Variance: {}\".format(variance))"
   ]
  },
  {
   "cell_type": "code",
   "execution_count": 57,
   "metadata": {},
   "outputs": [
    {
     "data": {
      "image/png": "[encoded data removed]",
      "text/plain": [
       "<Figure size 432x288 with 1 Axes>"
      ]
     },
     "metadata": {
      "needs_background": "light"
     },
     "output_type": "display_data"
    }
   ],
   "source": [
    "#2) Take mean of 1000 Bernoulli values (T/F), plot histogram.\n",
    "# Num of successes for each test = np.random.binomial(# of coin flips, probability, # of tests)\n",
    "n = 250\n",
    "BernieSet = np.random.binomial(n, .5, 1000)\n",
    "plt.hist(BernieSet/n, 20)\n",
    "plt.xlabel('Values')\n",
    "plt.ylabel('Count')\n",
    "plt.show()\n"
   ]
  },
  {
   "cell_type": "code",
   "execution_count": 58,
   "metadata": {},
   "outputs": [
    {
     "name": "stdout",
     "output_type": "stream",
     "text": [
      "Mean: 0.046310327061245396\n",
      "Variance: 25.210640914190698\n"
     ]
    }
   ],
   "source": [
    "#3\n",
    "set25k = np.random.normal(0,5,25000)\n",
    "mean = 0\n",
    "for value in set25k:\n",
    "    mean += value\n",
    "mean = mean / len(set25k)\n",
    "\n",
    "variance = 0\n",
    "for value in set25k:\n",
    "    variance += (value - mean)**2\n",
    "variance = variance / (len(set25k)-1)\n",
    "\n",
    "print(\"Mean: {}\".format(mean))\n",
    "print(\"Variance: {}\".format(variance))"
   ]
  },
  {
   "cell_type": "code",
   "execution_count": null,
   "metadata": {},
   "outputs": [],
   "source": []
  }
 ],
 "metadata": {
  "kernelspec": {
   "display_name": "Python 3",
   "language": "python",
   "name": "python3"
  },
  "language_info": {
   "codemirror_mode": {
    "name": "ipython",
    "version": 3
   },
   "file_extension": ".py",
   "mimetype": "text/x-python",
   "name": "python",
   "nbconvert_exporter": "python",
   "pygments_lexer": "ipython3",
   "version": "3.7.1"
  }
 },
 "nbformat": 4,
 "nbformat_minor": 2
}
